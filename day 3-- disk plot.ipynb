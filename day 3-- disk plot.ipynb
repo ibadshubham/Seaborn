{
 "cells": [
  {
   "cell_type": "code",
   "execution_count": 1,
   "metadata": {},
   "outputs": [],
   "source": [
    "import pandas as pd"
   ]
  },
  {
   "cell_type": "code",
   "execution_count": 2,
   "metadata": {},
   "outputs": [],
   "source": [
    "import numpy as np"
   ]
  },
  {
   "cell_type": "code",
   "execution_count": 3,
   "metadata": {},
   "outputs": [],
   "source": [
    "import matplotlib.pyplot as plt\n",
    "import seaborn as sns\n",
    "%matplotlib inline"
   ]
  },
  {
   "cell_type": "code",
   "execution_count": 7,
   "metadata": {},
   "outputs": [],
   "source": [
    "num=np.random.randn(150)"
   ]
  },
  {
   "cell_type": "code",
   "execution_count": 8,
   "metadata": {},
   "outputs": [
    {
     "data": {
      "text/plain": [
       "array([-0.79015029,  2.05154851,  0.44695474, -0.58967595, -1.59890655,\n",
       "        0.45417858,  0.13242202,  0.20650138,  0.30534932,  1.14240192,\n",
       "       -0.85367731,  1.57025709,  0.10970723,  1.31388868, -0.75236265,\n",
       "        0.24858184,  0.48371437,  0.02806301,  1.19205443,  2.01358265,\n",
       "       -0.54255925, -1.10701468, -0.29184743, -0.09256884,  0.43471737,\n",
       "       -1.16048601,  1.2864871 , -0.21377858, -0.9609111 ,  2.72793585,\n",
       "        1.20670233, -0.33769901, -1.99107031,  0.54658441,  1.00343937,\n",
       "        0.05160646,  0.3615432 , -0.61658849,  0.24638066, -1.23466715,\n",
       "       -1.60178513,  0.80103509,  1.01596252, -0.28314532, -0.67612573,\n",
       "        0.03570145,  0.21124151,  0.88094934, -0.84608922,  0.01633482,\n",
       "        0.38083747, -0.3424149 , -0.78767793,  0.7180799 , -0.84832155,\n",
       "        0.55168621, -0.79982036,  0.46119167,  0.19231921, -0.5617161 ,\n",
       "       -1.41472352,  1.111861  ,  0.18704323, -1.38800381,  0.79226865,\n",
       "        0.46368098, -0.43693128, -0.62754953, -0.24057339,  0.36319954,\n",
       "       -0.56896095, -1.37945838,  0.58254519, -0.8065611 ,  1.47817696,\n",
       "        0.40060069, -0.23246066, -0.46025723,  0.64077658, -1.93169551,\n",
       "       -0.47586046,  1.36019348,  0.33251624, -0.50158654,  0.02257748,\n",
       "       -2.15456166,  0.10147716, -1.74250317, -0.33877139,  1.65123907,\n",
       "        1.22531372,  0.02058227,  0.87031317, -1.3282472 ,  0.22417731,\n",
       "        0.54067274, -1.1802238 , -0.03111911, -0.30287498, -0.0069202 ,\n",
       "       -2.16444845, -0.73572256, -0.24868505, -0.33098382,  1.00041144,\n",
       "       -0.8366918 , -0.1217174 , -0.76228786,  0.35589236,  1.35075928,\n",
       "        1.53821679,  0.26709584,  0.62435014,  1.86559822, -0.8007422 ,\n",
       "       -0.30123395, -0.31570657, -0.04596016,  1.88713646,  0.35432321,\n",
       "       -0.13897285, -0.99668947,  1.04228394,  1.25815032, -1.94852854,\n",
       "       -0.5375217 ,  0.82248939,  0.4516094 ,  0.59253319, -0.82045182,\n",
       "        0.38107272, -1.31060685, -0.9698392 ,  0.05972392,  0.49951351,\n",
       "       -0.73472548,  0.58976395, -1.82155591, -1.72991557, -0.31852758,\n",
       "       -0.80346226, -1.13416119,  0.83493782,  0.09325587, -0.71521476,\n",
       "        0.47911051, -0.54368731, -0.46375109,  1.57961029,  0.08938385])"
      ]
     },
     "execution_count": 8,
     "metadata": {},
     "output_type": "execute_result"
    }
   ],
   "source": [
    "num"
   ]
  },
  {
   "cell_type": "code",
   "execution_count": 9,
   "metadata": {},
   "outputs": [
    {
     "name": "stderr",
     "output_type": "stream",
     "text": [
      "C:\\Program Files (x86)\\Microsoft Visual Studio\\Shared\\Anaconda3_64\\lib\\site-packages\\matplotlib\\axes\\_axes.py:6462: UserWarning: The 'normed' kwarg is deprecated, and has been replaced by the 'density' kwarg.\n",
      "  warnings.warn(\"The 'normed' kwarg is deprecated, and has been \"\n"
     ]
    },
    {
     "data": {
      "text/plain": [
       "<matplotlib.axes._subplots.AxesSubplot at 0x6ac0320>"
      ]
     },
     "execution_count": 9,
     "metadata": {},
     "output_type": "execute_result"
    },
    {
     "data": {
      "image/png": "[encoded data removed]",
      "text/plain": [
       "<Figure size 432x288 with 1 Axes>"
      ]
     },
     "metadata": {},
     "output_type": "display_data"
    }
   ],
   "source": [
    "sns.distplot(num)"
   ]
  },
  {
   "cell_type": "code",
   "execution_count": 11,
   "metadata": {},
   "outputs": [
    {
     "name": "stderr",
     "output_type": "stream",
     "text": [
      "C:\\Program Files (x86)\\Microsoft Visual Studio\\Shared\\Anaconda3_64\\lib\\site-packages\\matplotlib\\axes\\_axes.py:6462: UserWarning: The 'normed' kwarg is deprecated, and has been replaced by the 'density' kwarg.\n",
      "  warnings.warn(\"The 'normed' kwarg is deprecated, and has been \"\n"
     ]
    },
    {
     "data": {
      "text/plain": [
       "<matplotlib.axes._subplots.AxesSubplot at 0x6d55390>"
      ]
     },
     "execution_count": 11,
     "metadata": {},
     "output_type": "execute_result"
    },
    {
     "data": {
      "image/png": "[encoded data removed]",
      "text/plain": [
       "<Figure size 432x288 with 1 Axes>"
      ]
     },
     "metadata": {},
     "output_type": "display_data"
    }
   ],
   "source": [
    "sns.distplot(num,color='black')"
   ]
  },
  {
   "cell_type": "code",
   "execution_count": 12,
   "metadata": {},
   "outputs": [],
   "source": [
    "label_dist=pd.Series(num,name=\"variable x\")"
   ]
  },
  {
   "cell_type": "code",
   "execution_count": null,
   "metadata": {},
   "outputs": [],
   "source": []
  },
  {
   "cell_type": "code",
   "execution_count": null,
   "metadata": {},
   "outputs": [],
   "source": []
  },
  {
   "cell_type": "code",
   "execution_count": null,
   "metadata": {},
   "outputs": [],
   "source": []
  }
 ],
 "metadata": {
  "kernelspec": {
   "display_name": "Python 3",
   "language": "python",
   "name": "python3"
  },
  "language_info": {
   "codemirror_mode": {
    "name": "ipython",
    "version": 3
   },
   "file_extension": ".py",
   "mimetype": "text/x-python",
   "name": "python",
   "nbconvert_exporter": "python",
   "pygments_lexer": "ipython3",
   "version": "3.6.5"
  }
 },
 "nbformat": 4,
 "nbformat_minor": 2
}
